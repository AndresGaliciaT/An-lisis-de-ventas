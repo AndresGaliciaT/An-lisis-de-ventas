{
 "cells": [
  {
   "attachments": {},
   "cell_type": "markdown",
   "metadata": {},
   "source": [
    "# Análisis de ventas con python: \n",
    "## descubriendo patrones y tendencias"
   ]
  },
  {
   "cell_type": "code",
   "execution_count": 151,
   "metadata": {},
   "outputs": [
    {
     "name": "stderr",
     "output_type": "stream",
     "text": [
      "C:\\Users\\hp\\AppData\\Local\\Temp\\ipykernel_3904\\3114161201.py:14: MatplotlibDeprecationWarning: The seaborn styles shipped by Matplotlib are deprecated since 3.6, as they no longer correspond to the styles shipped by seaborn. However, they will remain available as 'seaborn-v0_8-<style>'. Alternatively, directly use the seaborn API instead.\n",
      "  plt.style.use('seaborn')\n"
     ]
    },
    {
     "data": {
      "text/plain": [
       "'\\nEs una buena práctica colocar las importaciones de bibliotecas al principio del código y juntas,\\nya que esto hace que el código sea más fácil de leer y entender.\\n\\nAdemás, al colocarlas al principio,\\nodemos identificar rápidamente qué bibliotecas se están utilizando \\ny si es necesario agregar alguna nueva biblioteca para el código que estamos escribiendo.\\n'"
      ]
     },
     "execution_count": 151,
     "metadata": {},
     "output_type": "execute_result"
    }
   ],
   "source": [
    "# Importamos las Bibliotecas necesarias para el análisis de datos\n",
    "import pandas as pd\n",
    "import os\n",
    "import matplotlib.pyplot as plt\n",
    "import re\n",
    "import datetime as dt\n",
    "import seaborn  as sns\n",
    "import itertools \n",
    "from itertools import combinations\n",
    "import collections\n",
    "from collections import Counter\n",
    "\n",
    "# Establecemos el estilo de los gráficos\n",
    "plt.style.use('seaborn')\n",
    "sns.set_style('darkgrid')\n",
    "\n",
    "\"\"\"\n",
    "Es una buena práctica colocar las importaciones de bibliotecas al principio del código y juntas,\n",
    "ya que esto hace que el código sea más fácil de leer y entender.\n",
    "\n",
    "Además, al colocarlas al principio,\n",
    "odemos identificar rápidamente qué bibliotecas se están utilizando \n",
    "y si es necesario agregar alguna nueva biblioteca para el código que estamos escribiendo.\n",
    "\"\"\""
   ]
  },
  {
   "cell_type": "code",
   "execution_count": 152,
   "metadata": {},
   "outputs": [
    {
     "data": {
      "text/plain": [
       "['Sales_April_2019.csv',\n",
       " 'Sales_August_2019.csv',\n",
       " 'Sales_December_2019.csv',\n",
       " 'Sales_February_2019.csv',\n",
       " 'Sales_January_2019.csv',\n",
       " 'Sales_July_2019.csv',\n",
       " 'Sales_June_2019.csv',\n",
       " 'Sales_March_2019.csv',\n",
       " 'Sales_May_2019.csv',\n",
       " 'Sales_November_2019.csv',\n",
       " 'Sales_October_2019.csv',\n",
       " 'Sales_September_2019.csv']"
      ]
     },
     "execution_count": 152,
     "metadata": {},
     "output_type": "execute_result"
    }
   ],
   "source": [
    "# leer archivos\n",
    "os.listdir(\"files\")"
   ]
  },
  {
   "attachments": {},
   "cell_type": "markdown",
   "metadata": {},
   "source": [
    "## lectura de csv de pandas"
   ]
  },
  {
   "cell_type": "code",
   "execution_count": 153,
   "metadata": {},
   "outputs": [],
   "source": [
    "df = pd.DataFrame()"
   ]
  },
  {
   "cell_type": "code",
   "execution_count": 154,
   "metadata": {},
   "outputs": [],
   "source": [
    "# Obtenemos una lista de los archivos en el directorio 'files'\n",
    "files = os.listdir(\"files\")\n",
    "\n",
    "# Iteramos sobre cada archivo en la lista\n",
    "for x in files:\n",
    "    \n",
    "    # Leemos el archivo y lo almacenamos en el dataframe 'file'\n",
    "    file = pd.read_csv('files/' + x)\n",
    "    \n",
    "    # Combinamos el dataframe 'file' con el dataframe 'df' y almacenamos el resultado en 'df'\n",
    "    df = pd.concat([file ,df])\n"
   ]
  },
  {
   "cell_type": "code",
   "execution_count": 155,
   "metadata": {},
   "outputs": [
    {
     "data": {
      "text/html": [
       "<div>\n",
       "<style scoped>\n",
       "    .dataframe tbody tr th:only-of-type {\n",
       "        vertical-align: middle;\n",
       "    }\n",
       "\n",
       "    .dataframe tbody tr th {\n",
       "        vertical-align: top;\n",
       "    }\n",
       "\n",
       "    .dataframe thead th {\n",
       "        text-align: right;\n",
       "    }\n",
       "</style>\n",
       "<table border=\"1\" class=\"dataframe\">\n",
       "  <thead>\n",
       "    <tr style=\"text-align: right;\">\n",
       "      <th></th>\n",
       "      <th>Order ID</th>\n",
       "      <th>Product</th>\n",
       "      <th>Quantity Ordered</th>\n",
       "      <th>Price Each</th>\n",
       "      <th>Order Date</th>\n",
       "      <th>Purchase Address</th>\n",
       "    </tr>\n",
       "  </thead>\n",
       "  <tbody>\n",
       "    <tr>\n",
       "      <th>0</th>\n",
       "      <td>248151</td>\n",
       "      <td>AA Batteries (4-pack)</td>\n",
       "      <td>4</td>\n",
       "      <td>3.84</td>\n",
       "      <td>09/17/19 14:44</td>\n",
       "      <td>380 North St, Los Angeles, CA 90001</td>\n",
       "    </tr>\n",
       "    <tr>\n",
       "      <th>1</th>\n",
       "      <td>248152</td>\n",
       "      <td>USB-C Charging Cable</td>\n",
       "      <td>2</td>\n",
       "      <td>11.95</td>\n",
       "      <td>09/29/19 10:19</td>\n",
       "      <td>511 8th St, Austin, TX 73301</td>\n",
       "    </tr>\n",
       "    <tr>\n",
       "      <th>2</th>\n",
       "      <td>248153</td>\n",
       "      <td>USB-C Charging Cable</td>\n",
       "      <td>1</td>\n",
       "      <td>11.95</td>\n",
       "      <td>09/16/19 17:48</td>\n",
       "      <td>151 Johnson St, Los Angeles, CA 90001</td>\n",
       "    </tr>\n",
       "    <tr>\n",
       "      <th>3</th>\n",
       "      <td>248154</td>\n",
       "      <td>27in FHD Monitor</td>\n",
       "      <td>1</td>\n",
       "      <td>149.99</td>\n",
       "      <td>09/27/19 07:52</td>\n",
       "      <td>355 Hickory St, Seattle, WA 98101</td>\n",
       "    </tr>\n",
       "    <tr>\n",
       "      <th>4</th>\n",
       "      <td>248155</td>\n",
       "      <td>USB-C Charging Cable</td>\n",
       "      <td>1</td>\n",
       "      <td>11.95</td>\n",
       "      <td>09/01/19 19:03</td>\n",
       "      <td>125 5th St, Atlanta, GA 30301</td>\n",
       "    </tr>\n",
       "  </tbody>\n",
       "</table>\n",
       "</div>"
      ],
      "text/plain": [
       "  Order ID                Product Quantity Ordered Price Each      Order Date  \\\n",
       "0   248151  AA Batteries (4-pack)                4       3.84  09/17/19 14:44   \n",
       "1   248152   USB-C Charging Cable                2      11.95  09/29/19 10:19   \n",
       "2   248153   USB-C Charging Cable                1      11.95  09/16/19 17:48   \n",
       "3   248154       27in FHD Monitor                1     149.99  09/27/19 07:52   \n",
       "4   248155   USB-C Charging Cable                1      11.95  09/01/19 19:03   \n",
       "\n",
       "                        Purchase Address  \n",
       "0    380 North St, Los Angeles, CA 90001  \n",
       "1           511 8th St, Austin, TX 73301  \n",
       "2  151 Johnson St, Los Angeles, CA 90001  \n",
       "3      355 Hickory St, Seattle, WA 98101  \n",
       "4          125 5th St, Atlanta, GA 30301  "
      ]
     },
     "execution_count": 155,
     "metadata": {},
     "output_type": "execute_result"
    }
   ],
   "source": [
    "df.head()"
   ]
  },
  {
   "cell_type": "code",
   "execution_count": 156,
   "metadata": {},
   "outputs": [
    {
     "name": "stdout",
     "output_type": "stream",
     "text": [
      "<class 'pandas.core.frame.DataFrame'>\n",
      "Int64Index: 186850 entries, 0 to 18382\n",
      "Data columns (total 6 columns):\n",
      " #   Column            Non-Null Count   Dtype \n",
      "---  ------            --------------   ----- \n",
      " 0   Order ID          186305 non-null  object\n",
      " 1   Product           186305 non-null  object\n",
      " 2   Quantity Ordered  186305 non-null  object\n",
      " 3   Price Each        186305 non-null  object\n",
      " 4   Order Date        186305 non-null  object\n",
      " 5   Purchase Address  186305 non-null  object\n",
      "dtypes: object(6)\n",
      "memory usage: 10.0+ MB\n"
     ]
    }
   ],
   "source": [
    "# exploración básica\n",
    "df.info()"
   ]
  },
  {
   "cell_type": "code",
   "execution_count": 157,
   "metadata": {},
   "outputs": [
    {
     "data": {
      "text/plain": [
       "Order ID            object\n",
       "Product             object\n",
       "Quantity Ordered    object\n",
       "Price Each          object\n",
       "Order Date          object\n",
       "Purchase Address    object\n",
       "dtype: object"
      ]
     },
     "execution_count": 157,
     "metadata": {},
     "output_type": "execute_result"
    }
   ],
   "source": [
    "df.dtypes"
   ]
  },
  {
   "cell_type": "code",
   "execution_count": 158,
   "metadata": {},
   "outputs": [
    {
     "data": {
      "text/plain": [
       "Order ID  Product  Quantity Ordered  Price Each  Order Date  Purchase Address\n",
       "False     False    False             False       False       False               186305\n",
       "True      True     True              True        True        True                   545\n",
       "dtype: int64"
      ]
     },
     "execution_count": 158,
     "metadata": {},
     "output_type": "execute_result"
    }
   ],
   "source": [
    "# conteo de valores nulos\n",
    "df.isnull().value_counts()"
   ]
  },
  {
   "cell_type": "code",
   "execution_count": 159,
   "metadata": {},
   "outputs": [
    {
     "data": {
      "text/plain": [
       "False    186305\n",
       "True        545\n",
       "Name: Order ID, dtype: int64"
      ]
     },
     "execution_count": 159,
     "metadata": {},
     "output_type": "execute_result"
    }
   ],
   "source": [
    "# conteo de valores nulos de order id\n",
    "df[\"Order ID\"].isnull().value_counts()"
   ]
  },
  {
   "cell_type": "code",
   "execution_count": 160,
   "metadata": {},
   "outputs": [],
   "source": [
    "# eliminamos valores nulos\n",
    "df=df[df[\"Order ID\"].notnull()]"
   ]
  },
  {
   "cell_type": "code",
   "execution_count": 161,
   "metadata": {},
   "outputs": [
    {
     "data": {
      "text/html": [
       "<div>\n",
       "<style scoped>\n",
       "    .dataframe tbody tr th:only-of-type {\n",
       "        vertical-align: middle;\n",
       "    }\n",
       "\n",
       "    .dataframe tbody tr th {\n",
       "        vertical-align: top;\n",
       "    }\n",
       "\n",
       "    .dataframe thead th {\n",
       "        text-align: right;\n",
       "    }\n",
       "</style>\n",
       "<table border=\"1\" class=\"dataframe\">\n",
       "  <thead>\n",
       "    <tr style=\"text-align: right;\">\n",
       "      <th></th>\n",
       "      <th>Order ID</th>\n",
       "      <th>Product</th>\n",
       "      <th>Quantity Ordered</th>\n",
       "      <th>Price Each</th>\n",
       "      <th>Order Date</th>\n",
       "      <th>Purchase Address</th>\n",
       "    </tr>\n",
       "  </thead>\n",
       "  <tbody>\n",
       "    <tr>\n",
       "      <th>0</th>\n",
       "      <td>248151</td>\n",
       "      <td>AA Batteries (4-pack)</td>\n",
       "      <td>4</td>\n",
       "      <td>3.84</td>\n",
       "      <td>09/17/19 14:44</td>\n",
       "      <td>380 North St, Los Angeles, CA 90001</td>\n",
       "    </tr>\n",
       "    <tr>\n",
       "      <th>1</th>\n",
       "      <td>248152</td>\n",
       "      <td>USB-C Charging Cable</td>\n",
       "      <td>2</td>\n",
       "      <td>11.95</td>\n",
       "      <td>09/29/19 10:19</td>\n",
       "      <td>511 8th St, Austin, TX 73301</td>\n",
       "    </tr>\n",
       "    <tr>\n",
       "      <th>2</th>\n",
       "      <td>248153</td>\n",
       "      <td>USB-C Charging Cable</td>\n",
       "      <td>1</td>\n",
       "      <td>11.95</td>\n",
       "      <td>09/16/19 17:48</td>\n",
       "      <td>151 Johnson St, Los Angeles, CA 90001</td>\n",
       "    </tr>\n",
       "    <tr>\n",
       "      <th>3</th>\n",
       "      <td>248154</td>\n",
       "      <td>27in FHD Monitor</td>\n",
       "      <td>1</td>\n",
       "      <td>149.99</td>\n",
       "      <td>09/27/19 07:52</td>\n",
       "      <td>355 Hickory St, Seattle, WA 98101</td>\n",
       "    </tr>\n",
       "    <tr>\n",
       "      <th>4</th>\n",
       "      <td>248155</td>\n",
       "      <td>USB-C Charging Cable</td>\n",
       "      <td>1</td>\n",
       "      <td>11.95</td>\n",
       "      <td>09/01/19 19:03</td>\n",
       "      <td>125 5th St, Atlanta, GA 30301</td>\n",
       "    </tr>\n",
       "  </tbody>\n",
       "</table>\n",
       "</div>"
      ],
      "text/plain": [
       "  Order ID                Product Quantity Ordered Price Each      Order Date  \\\n",
       "0   248151  AA Batteries (4-pack)                4       3.84  09/17/19 14:44   \n",
       "1   248152   USB-C Charging Cable                2      11.95  09/29/19 10:19   \n",
       "2   248153   USB-C Charging Cable                1      11.95  09/16/19 17:48   \n",
       "3   248154       27in FHD Monitor                1     149.99  09/27/19 07:52   \n",
       "4   248155   USB-C Charging Cable                1      11.95  09/01/19 19:03   \n",
       "\n",
       "                        Purchase Address  \n",
       "0    380 North St, Los Angeles, CA 90001  \n",
       "1           511 8th St, Austin, TX 73301  \n",
       "2  151 Johnson St, Los Angeles, CA 90001  \n",
       "3      355 Hickory St, Seattle, WA 98101  \n",
       "4          125 5th St, Atlanta, GA 30301  "
      ]
     },
     "execution_count": 161,
     "metadata": {},
     "output_type": "execute_result"
    }
   ],
   "source": [
    "df.head()"
   ]
  },
  {
   "cell_type": "code",
   "execution_count": 162,
   "metadata": {},
   "outputs": [
    {
     "data": {
      "text/plain": [
       "Order ID  Product  Quantity Ordered  Price Each  Order Date  Purchase Address\n",
       "False     False    False             False       False       False               186305\n",
       "dtype: int64"
      ]
     },
     "execution_count": 162,
     "metadata": {},
     "output_type": "execute_result"
    }
   ],
   "source": [
    "df.isnull().value_counts() # ya no tenemos valores nulos"
   ]
  },
  {
   "cell_type": "code",
   "execution_count": 163,
   "metadata": {},
   "outputs": [
    {
     "name": "stdout",
     "output_type": "stream",
     "text": [
      "<class 'pandas.core.frame.DataFrame'>\n",
      "Int64Index: 186305 entries, 0 to 18382\n",
      "Data columns (total 6 columns):\n",
      " #   Column            Non-Null Count   Dtype \n",
      "---  ------            --------------   ----- \n",
      " 0   Order ID          186305 non-null  object\n",
      " 1   Product           186305 non-null  object\n",
      " 2   Quantity Ordered  186305 non-null  object\n",
      " 3   Price Each        186305 non-null  object\n",
      " 4   Order Date        186305 non-null  object\n",
      " 5   Purchase Address  186305 non-null  object\n",
      "dtypes: object(6)\n",
      "memory usage: 9.9+ MB\n"
     ]
    }
   ],
   "source": [
    "df.info()"
   ]
  },
  {
   "cell_type": "code",
   "execution_count": 164,
   "metadata": {},
   "outputs": [],
   "source": [
    "df=df[df['Product'] != 'Product']"
   ]
  },
  {
   "cell_type": "code",
   "execution_count": 165,
   "metadata": {},
   "outputs": [],
   "source": [
    "# Convertir la columna 'Quantity Ordered' a tipo de datos 'int64'\n",
    "df['Quantity Ordered'] = df['Quantity Ordered'].astype('int64')\n",
    "\n",
    "# Convertir la columna 'Price Each' a tipo de datos 'float'\n",
    "df['Price Each'] = df['Price Each'].astype('float')\n",
    "\n",
    "# Convertir la columna 'Order Date' a tipo de datos 'datetime'\n",
    "df['Order Date'] = pd.to_datetime(df['Order Date'])\n"
   ]
  },
  {
   "cell_type": "code",
   "execution_count": 166,
   "metadata": {},
   "outputs": [
    {
     "name": "stdout",
     "output_type": "stream",
     "text": [
      "<class 'pandas.core.frame.DataFrame'>\n",
      "Int64Index: 185950 entries, 0 to 18382\n",
      "Data columns (total 6 columns):\n",
      " #   Column            Non-Null Count   Dtype         \n",
      "---  ------            --------------   -----         \n",
      " 0   Order ID          185950 non-null  object        \n",
      " 1   Product           185950 non-null  object        \n",
      " 2   Quantity Ordered  185950 non-null  int64         \n",
      " 3   Price Each        185950 non-null  float64       \n",
      " 4   Order Date        185950 non-null  datetime64[ns]\n",
      " 5   Purchase Address  185950 non-null  object        \n",
      "dtypes: datetime64[ns](1), float64(1), int64(1), object(3)\n",
      "memory usage: 9.9+ MB\n"
     ]
    }
   ],
   "source": [
    "df.info()"
   ]
  },
  {
   "attachments": {},
   "cell_type": "markdown",
   "metadata": {},
   "source": [
    "Una vez que tenemos listos nuestros datos, comenzamos a explorarlos y hacer preguntas que nos permitan descubrir patrones y tendencias. \n",
    "En este análisis de ventas con Python, veremos cómo utilizar diversas técnicas para responder preguntas importantes sobre nuestro negocio y tomar decisiones informadas en base a los resultados obtenidos."
   ]
  },
  {
   "attachments": {},
   "cell_type": "markdown",
   "metadata": {},
   "source": [
    "## ¿cuál es el mes con la venta más alta?"
   ]
  },
  {
   "cell_type": "code",
   "execution_count": 167,
   "metadata": {},
   "outputs": [
    {
     "data": {
      "text/html": [
       "<div>\n",
       "<style scoped>\n",
       "    .dataframe tbody tr th:only-of-type {\n",
       "        vertical-align: middle;\n",
       "    }\n",
       "\n",
       "    .dataframe tbody tr th {\n",
       "        vertical-align: top;\n",
       "    }\n",
       "\n",
       "    .dataframe thead th {\n",
       "        text-align: right;\n",
       "    }\n",
       "</style>\n",
       "<table border=\"1\" class=\"dataframe\">\n",
       "  <thead>\n",
       "    <tr style=\"text-align: right;\">\n",
       "      <th></th>\n",
       "      <th>Order ID</th>\n",
       "      <th>Product</th>\n",
       "      <th>Quantity Ordered</th>\n",
       "      <th>Price Each</th>\n",
       "      <th>Order Date</th>\n",
       "      <th>Purchase Address</th>\n",
       "    </tr>\n",
       "  </thead>\n",
       "  <tbody>\n",
       "    <tr>\n",
       "      <th>0</th>\n",
       "      <td>248151</td>\n",
       "      <td>AA Batteries (4-pack)</td>\n",
       "      <td>4</td>\n",
       "      <td>3.84</td>\n",
       "      <td>2019-09-17 14:44:00</td>\n",
       "      <td>380 North St, Los Angeles, CA 90001</td>\n",
       "    </tr>\n",
       "    <tr>\n",
       "      <th>1</th>\n",
       "      <td>248152</td>\n",
       "      <td>USB-C Charging Cable</td>\n",
       "      <td>2</td>\n",
       "      <td>11.95</td>\n",
       "      <td>2019-09-29 10:19:00</td>\n",
       "      <td>511 8th St, Austin, TX 73301</td>\n",
       "    </tr>\n",
       "    <tr>\n",
       "      <th>2</th>\n",
       "      <td>248153</td>\n",
       "      <td>USB-C Charging Cable</td>\n",
       "      <td>1</td>\n",
       "      <td>11.95</td>\n",
       "      <td>2019-09-16 17:48:00</td>\n",
       "      <td>151 Johnson St, Los Angeles, CA 90001</td>\n",
       "    </tr>\n",
       "    <tr>\n",
       "      <th>3</th>\n",
       "      <td>248154</td>\n",
       "      <td>27in FHD Monitor</td>\n",
       "      <td>1</td>\n",
       "      <td>149.99</td>\n",
       "      <td>2019-09-27 07:52:00</td>\n",
       "      <td>355 Hickory St, Seattle, WA 98101</td>\n",
       "    </tr>\n",
       "    <tr>\n",
       "      <th>4</th>\n",
       "      <td>248155</td>\n",
       "      <td>USB-C Charging Cable</td>\n",
       "      <td>1</td>\n",
       "      <td>11.95</td>\n",
       "      <td>2019-09-01 19:03:00</td>\n",
       "      <td>125 5th St, Atlanta, GA 30301</td>\n",
       "    </tr>\n",
       "  </tbody>\n",
       "</table>\n",
       "</div>"
      ],
      "text/plain": [
       "  Order ID                Product  Quantity Ordered  Price Each  \\\n",
       "0   248151  AA Batteries (4-pack)                 4        3.84   \n",
       "1   248152   USB-C Charging Cable                 2       11.95   \n",
       "2   248153   USB-C Charging Cable                 1       11.95   \n",
       "3   248154       27in FHD Monitor                 1      149.99   \n",
       "4   248155   USB-C Charging Cable                 1       11.95   \n",
       "\n",
       "           Order Date                       Purchase Address  \n",
       "0 2019-09-17 14:44:00    380 North St, Los Angeles, CA 90001  \n",
       "1 2019-09-29 10:19:00           511 8th St, Austin, TX 73301  \n",
       "2 2019-09-16 17:48:00  151 Johnson St, Los Angeles, CA 90001  \n",
       "3 2019-09-27 07:52:00      355 Hickory St, Seattle, WA 98101  \n",
       "4 2019-09-01 19:03:00          125 5th St, Atlanta, GA 30301  "
      ]
     },
     "execution_count": 167,
     "metadata": {},
     "output_type": "execute_result"
    }
   ],
   "source": [
    "df.head()"
   ]
  },
  {
   "cell_type": "code",
   "execution_count": 168,
   "metadata": {},
   "outputs": [],
   "source": [
    "# extraer mes\n",
    "df['Mes'] = df['Order Date'].dt.month\\\n",
    "\n",
    "# precio * cantidad\n",
    "df['Total_ventas'] = df['Quantity Ordered'] * df['Price Each']"
   ]
  },
  {
   "cell_type": "code",
   "execution_count": 169,
   "metadata": {},
   "outputs": [
    {
     "name": "stderr",
     "output_type": "stream",
     "text": [
      "C:\\Users\\hp\\AppData\\Local\\Temp\\ipykernel_3904\\2972621535.py:2: FutureWarning: The default value of numeric_only in DataFrameGroupBy.sum is deprecated. In a future version, numeric_only will default to False. Either specify numeric_only or select only columns which should be valid for the function.\n",
      "  df_mes = df.groupby('Mes').sum()\n"
     ]
    }
   ],
   "source": [
    "# agrupaciones por mes\n",
    "df_mes = df.groupby('Mes').sum()\n",
    "\n",
    "# resetear el índice\n",
    "df_mes = df_mes.reset_index()"
   ]
  },
  {
   "cell_type": "code",
   "execution_count": 170,
   "metadata": {},
   "outputs": [
    {
     "data": {
      "image/png": "[encoded data removed]",
      "text/plain": [
       "<Figure size 1500x700 with 2 Axes>"
      ]
     },
     "metadata": {},
     "output_type": "display_data"
    }
   ],
   "source": [
    "# Crear la figura y los subplots para las dos gráficas\n",
    "fig, axes = plt.subplots(1, 2, figsize=(15, 7))\n",
    "\n",
    "# Crear dos axes (uno para cada gráfica) en el subplot\n",
    "ax1 = plt.subplot(1, 2, 1)\n",
    "ax2 = plt.subplot(1, 2, 2)\n",
    "\n",
    "# Crear la barra para la gráfica de barras utilizando los datos de ventas por mes\n",
    "bars = ax1.bar(df_mes['Mes'], df_mes['Total_ventas'])\n",
    "\n",
    "# Crear la gráfica de línea para la tendencia de ventas por mes utilizando los datos de ventas por fecha\n",
    "ax2.plot(df_fecha['Total_ventas'])\n",
    "\n",
    "# Establecer los ticks del eje x para la gráfica de barras utilizando los datos de meses\n",
    "ax1.set_xticks(df_mes['Mes'])\n",
    "\n",
    "# Establecer el título de las gráficas\n",
    "ax1.set_title('Ventas por Mes', size=20)\n",
    "ax2.set_title('Tendencias de Ventas por Mes', size=20)\n",
    "\n",
    "# Establecer las etiquetas de los ejes de la gráfica de barras\n",
    "ax1.set_xlabel('Meses')\n",
    "ax1.set_ylabel('Ventas en Millones')\n",
    "\n",
    "# Resaltar una barra en la gráfica de barras\n",
    "bars[11].set_color('#005f73')\n",
    "\n",
    "# Mostrar la figura con las dos gráficas\n",
    "plt.show()\n"
   ]
  },
  {
   "cell_type": "code",
   "execution_count": 171,
   "metadata": {},
   "outputs": [
    {
     "name": "stderr",
     "output_type": "stream",
     "text": [
      "C:\\Users\\hp\\AppData\\Local\\Temp\\ipykernel_3904\\3218153572.py:2: FutureWarning: The default value of numeric_only in DataFrameGroupBy.sum is deprecated. In a future version, numeric_only will default to False. Either specify numeric_only or select only columns which should be valid for the function.\n",
      "  df_fecha = df.groupby('Order Date').sum()\n"
     ]
    }
   ],
   "source": [
    "# agrupación por fecha\n",
    "df_fecha = df.groupby('Order Date').sum()"
   ]
  },
  {
   "cell_type": "code",
   "execution_count": 172,
   "metadata": {},
   "outputs": [],
   "source": [
    "# Re-muestrear el dataframe 'df_fecha' utilizando el método 'resample' con una frecuencia de \"semana\" y sumar los valores\n",
    "df_fecha = df_fecha.resample('w').sum()\n"
   ]
  },
  {
   "cell_type": "code",
   "execution_count": 173,
   "metadata": {},
   "outputs": [
    {
     "data": {
      "text/html": [
       "<div>\n",
       "<style scoped>\n",
       "    .dataframe tbody tr th:only-of-type {\n",
       "        vertical-align: middle;\n",
       "    }\n",
       "\n",
       "    .dataframe tbody tr th {\n",
       "        vertical-align: top;\n",
       "    }\n",
       "\n",
       "    .dataframe thead th {\n",
       "        text-align: right;\n",
       "    }\n",
       "</style>\n",
       "<table border=\"1\" class=\"dataframe\">\n",
       "  <thead>\n",
       "    <tr style=\"text-align: right;\">\n",
       "      <th></th>\n",
       "      <th>Order ID</th>\n",
       "      <th>Product</th>\n",
       "      <th>Quantity Ordered</th>\n",
       "      <th>Price Each</th>\n",
       "      <th>Order Date</th>\n",
       "      <th>Purchase Address</th>\n",
       "      <th>Mes</th>\n",
       "      <th>Total_ventas</th>\n",
       "    </tr>\n",
       "  </thead>\n",
       "  <tbody>\n",
       "    <tr>\n",
       "      <th>0</th>\n",
       "      <td>248151</td>\n",
       "      <td>AA Batteries (4-pack)</td>\n",
       "      <td>4</td>\n",
       "      <td>3.84</td>\n",
       "      <td>2019-09-17 14:44:00</td>\n",
       "      <td>380 North St, Los Angeles, CA 90001</td>\n",
       "      <td>9</td>\n",
       "      <td>15.36</td>\n",
       "    </tr>\n",
       "    <tr>\n",
       "      <th>1</th>\n",
       "      <td>248152</td>\n",
       "      <td>USB-C Charging Cable</td>\n",
       "      <td>2</td>\n",
       "      <td>11.95</td>\n",
       "      <td>2019-09-29 10:19:00</td>\n",
       "      <td>511 8th St, Austin, TX 73301</td>\n",
       "      <td>9</td>\n",
       "      <td>23.90</td>\n",
       "    </tr>\n",
       "    <tr>\n",
       "      <th>2</th>\n",
       "      <td>248153</td>\n",
       "      <td>USB-C Charging Cable</td>\n",
       "      <td>1</td>\n",
       "      <td>11.95</td>\n",
       "      <td>2019-09-16 17:48:00</td>\n",
       "      <td>151 Johnson St, Los Angeles, CA 90001</td>\n",
       "      <td>9</td>\n",
       "      <td>11.95</td>\n",
       "    </tr>\n",
       "    <tr>\n",
       "      <th>3</th>\n",
       "      <td>248154</td>\n",
       "      <td>27in FHD Monitor</td>\n",
       "      <td>1</td>\n",
       "      <td>149.99</td>\n",
       "      <td>2019-09-27 07:52:00</td>\n",
       "      <td>355 Hickory St, Seattle, WA 98101</td>\n",
       "      <td>9</td>\n",
       "      <td>149.99</td>\n",
       "    </tr>\n",
       "    <tr>\n",
       "      <th>4</th>\n",
       "      <td>248155</td>\n",
       "      <td>USB-C Charging Cable</td>\n",
       "      <td>1</td>\n",
       "      <td>11.95</td>\n",
       "      <td>2019-09-01 19:03:00</td>\n",
       "      <td>125 5th St, Atlanta, GA 30301</td>\n",
       "      <td>9</td>\n",
       "      <td>11.95</td>\n",
       "    </tr>\n",
       "  </tbody>\n",
       "</table>\n",
       "</div>"
      ],
      "text/plain": [
       "  Order ID                Product  Quantity Ordered  Price Each  \\\n",
       "0   248151  AA Batteries (4-pack)                 4        3.84   \n",
       "1   248152   USB-C Charging Cable                 2       11.95   \n",
       "2   248153   USB-C Charging Cable                 1       11.95   \n",
       "3   248154       27in FHD Monitor                 1      149.99   \n",
       "4   248155   USB-C Charging Cable                 1       11.95   \n",
       "\n",
       "           Order Date                       Purchase Address  Mes  \\\n",
       "0 2019-09-17 14:44:00    380 North St, Los Angeles, CA 90001    9   \n",
       "1 2019-09-29 10:19:00           511 8th St, Austin, TX 73301    9   \n",
       "2 2019-09-16 17:48:00  151 Johnson St, Los Angeles, CA 90001    9   \n",
       "3 2019-09-27 07:52:00      355 Hickory St, Seattle, WA 98101    9   \n",
       "4 2019-09-01 19:03:00          125 5th St, Atlanta, GA 30301    9   \n",
       "\n",
       "   Total_ventas  \n",
       "0         15.36  \n",
       "1         23.90  \n",
       "2         11.95  \n",
       "3        149.99  \n",
       "4         11.95  "
      ]
     },
     "execution_count": 173,
     "metadata": {},
     "output_type": "execute_result"
    }
   ],
   "source": [
    "df.head()"
   ]
  },
  {
   "attachments": {},
   "cell_type": "markdown",
   "metadata": {},
   "source": [
    "## ¿cuál es la cuidad con mayor ventas?"
   ]
  },
  {
   "cell_type": "code",
   "execution_count": 174,
   "metadata": {},
   "outputs": [],
   "source": [
    "# Agregar una columna 'Ciudad' al dataframe 'df' que extrae la ciudad de la dirección de compra\n",
    "df['Ciudad'] = df['Purchase Address'].apply(lambda x: x.split(',')[1])\n"
   ]
  },
  {
   "cell_type": "code",
   "execution_count": 175,
   "metadata": {},
   "outputs": [
    {
     "data": {
      "text/html": [
       "<div>\n",
       "<style scoped>\n",
       "    .dataframe tbody tr th:only-of-type {\n",
       "        vertical-align: middle;\n",
       "    }\n",
       "\n",
       "    .dataframe tbody tr th {\n",
       "        vertical-align: top;\n",
       "    }\n",
       "\n",
       "    .dataframe thead th {\n",
       "        text-align: right;\n",
       "    }\n",
       "</style>\n",
       "<table border=\"1\" class=\"dataframe\">\n",
       "  <thead>\n",
       "    <tr style=\"text-align: right;\">\n",
       "      <th></th>\n",
       "      <th>Order ID</th>\n",
       "      <th>Product</th>\n",
       "      <th>Quantity Ordered</th>\n",
       "      <th>Price Each</th>\n",
       "      <th>Order Date</th>\n",
       "      <th>Purchase Address</th>\n",
       "      <th>Mes</th>\n",
       "      <th>Total_ventas</th>\n",
       "      <th>Ciudad</th>\n",
       "    </tr>\n",
       "  </thead>\n",
       "  <tbody>\n",
       "    <tr>\n",
       "      <th>0</th>\n",
       "      <td>248151</td>\n",
       "      <td>AA Batteries (4-pack)</td>\n",
       "      <td>4</td>\n",
       "      <td>3.84</td>\n",
       "      <td>2019-09-17 14:44:00</td>\n",
       "      <td>380 North St, Los Angeles, CA 90001</td>\n",
       "      <td>9</td>\n",
       "      <td>15.36</td>\n",
       "      <td>Los Angeles</td>\n",
       "    </tr>\n",
       "    <tr>\n",
       "      <th>1</th>\n",
       "      <td>248152</td>\n",
       "      <td>USB-C Charging Cable</td>\n",
       "      <td>2</td>\n",
       "      <td>11.95</td>\n",
       "      <td>2019-09-29 10:19:00</td>\n",
       "      <td>511 8th St, Austin, TX 73301</td>\n",
       "      <td>9</td>\n",
       "      <td>23.90</td>\n",
       "      <td>Austin</td>\n",
       "    </tr>\n",
       "    <tr>\n",
       "      <th>2</th>\n",
       "      <td>248153</td>\n",
       "      <td>USB-C Charging Cable</td>\n",
       "      <td>1</td>\n",
       "      <td>11.95</td>\n",
       "      <td>2019-09-16 17:48:00</td>\n",
       "      <td>151 Johnson St, Los Angeles, CA 90001</td>\n",
       "      <td>9</td>\n",
       "      <td>11.95</td>\n",
       "      <td>Los Angeles</td>\n",
       "    </tr>\n",
       "    <tr>\n",
       "      <th>3</th>\n",
       "      <td>248154</td>\n",
       "      <td>27in FHD Monitor</td>\n",
       "      <td>1</td>\n",
       "      <td>149.99</td>\n",
       "      <td>2019-09-27 07:52:00</td>\n",
       "      <td>355 Hickory St, Seattle, WA 98101</td>\n",
       "      <td>9</td>\n",
       "      <td>149.99</td>\n",
       "      <td>Seattle</td>\n",
       "    </tr>\n",
       "    <tr>\n",
       "      <th>4</th>\n",
       "      <td>248155</td>\n",
       "      <td>USB-C Charging Cable</td>\n",
       "      <td>1</td>\n",
       "      <td>11.95</td>\n",
       "      <td>2019-09-01 19:03:00</td>\n",
       "      <td>125 5th St, Atlanta, GA 30301</td>\n",
       "      <td>9</td>\n",
       "      <td>11.95</td>\n",
       "      <td>Atlanta</td>\n",
       "    </tr>\n",
       "  </tbody>\n",
       "</table>\n",
       "</div>"
      ],
      "text/plain": [
       "  Order ID                Product  Quantity Ordered  Price Each  \\\n",
       "0   248151  AA Batteries (4-pack)                 4        3.84   \n",
       "1   248152   USB-C Charging Cable                 2       11.95   \n",
       "2   248153   USB-C Charging Cable                 1       11.95   \n",
       "3   248154       27in FHD Monitor                 1      149.99   \n",
       "4   248155   USB-C Charging Cable                 1       11.95   \n",
       "\n",
       "           Order Date                       Purchase Address  Mes  \\\n",
       "0 2019-09-17 14:44:00    380 North St, Los Angeles, CA 90001    9   \n",
       "1 2019-09-29 10:19:00           511 8th St, Austin, TX 73301    9   \n",
       "2 2019-09-16 17:48:00  151 Johnson St, Los Angeles, CA 90001    9   \n",
       "3 2019-09-27 07:52:00      355 Hickory St, Seattle, WA 98101    9   \n",
       "4 2019-09-01 19:03:00          125 5th St, Atlanta, GA 30301    9   \n",
       "\n",
       "   Total_ventas        Ciudad  \n",
       "0         15.36   Los Angeles  \n",
       "1         23.90        Austin  \n",
       "2         11.95   Los Angeles  \n",
       "3        149.99       Seattle  \n",
       "4         11.95       Atlanta  "
      ]
     },
     "execution_count": 175,
     "metadata": {},
     "output_type": "execute_result"
    }
   ],
   "source": [
    "df.head()"
   ]
  },
  {
   "cell_type": "code",
   "execution_count": 176,
   "metadata": {},
   "outputs": [
    {
     "name": "stderr",
     "output_type": "stream",
     "text": [
      "C:\\Users\\hp\\AppData\\Local\\Temp\\ipykernel_3904\\3652101366.py:2: FutureWarning: The default value of numeric_only in DataFrameGroupBy.sum is deprecated. In a future version, numeric_only will default to False. Either specify numeric_only or select only columns which should be valid for the function.\n",
      "  df_ciudad = df.groupby('Ciudad').sum()\n"
     ]
    }
   ],
   "source": [
    "# Agrupar los datos del dataframe 'df' por ciudad y sumar los totales de ventas por ciudad\n",
    "df_ciudad = df.groupby('Ciudad').sum()\n",
    "\n",
    "# Resetear el índice del dataframe 'df_ciudad' para que la columna de ciudades se convierta en una columna normal\n",
    "df_ciudad = df_ciudad.reset_index()"
   ]
  },
  {
   "cell_type": "code",
   "execution_count": 188,
   "metadata": {},
   "outputs": [
    {
     "data": {
      "image/png": "[encoded data removed]",
      "text/plain": [
       "<Figure size 800x550 with 1 Axes>"
      ]
     },
     "metadata": {},
     "output_type": "display_data"
    }
   ],
   "source": [
    "# Crear el objeto de gráfico de barras y asignarlo a la variable 'bars'\n",
    "bars = plt.bar(df_ciudad['Ciudad'], df_ciudad['Total_ventas'])\n",
    "\n",
    "# Rotar las etiquetas del eje x en 90 grados para hacerlas más legibles\n",
    "plt.xticks(rotation=90)\n",
    "\n",
    "# Cambiar el color de la séptima barra en la gráfica a rojo\n",
    "# Nota: como las listas en Python comienzan en 0, el índice de la séptima barra es 6\n",
    "bars[7].set_color('#005f73')\n",
    "\n",
    "# Mostrar la gráfica de barras\n",
    "plt.show()"
   ]
  },
  {
   "attachments": {},
   "cell_type": "markdown",
   "metadata": {},
   "source": [
    "## ¿cuál es la hora que más se venden productos?"
   ]
  },
  {
   "cell_type": "code",
   "execution_count": 178,
   "metadata": {},
   "outputs": [
    {
     "data": {
      "text/html": [
       "<div>\n",
       "<style scoped>\n",
       "    .dataframe tbody tr th:only-of-type {\n",
       "        vertical-align: middle;\n",
       "    }\n",
       "\n",
       "    .dataframe tbody tr th {\n",
       "        vertical-align: top;\n",
       "    }\n",
       "\n",
       "    .dataframe thead th {\n",
       "        text-align: right;\n",
       "    }\n",
       "</style>\n",
       "<table border=\"1\" class=\"dataframe\">\n",
       "  <thead>\n",
       "    <tr style=\"text-align: right;\">\n",
       "      <th></th>\n",
       "      <th>Order ID</th>\n",
       "      <th>Product</th>\n",
       "      <th>Quantity Ordered</th>\n",
       "      <th>Price Each</th>\n",
       "      <th>Order Date</th>\n",
       "      <th>Purchase Address</th>\n",
       "      <th>Mes</th>\n",
       "      <th>Total_ventas</th>\n",
       "      <th>Ciudad</th>\n",
       "    </tr>\n",
       "  </thead>\n",
       "  <tbody>\n",
       "    <tr>\n",
       "      <th>0</th>\n",
       "      <td>248151</td>\n",
       "      <td>AA Batteries (4-pack)</td>\n",
       "      <td>4</td>\n",
       "      <td>3.84</td>\n",
       "      <td>2019-09-17 14:44:00</td>\n",
       "      <td>380 North St, Los Angeles, CA 90001</td>\n",
       "      <td>9</td>\n",
       "      <td>15.36</td>\n",
       "      <td>Los Angeles</td>\n",
       "    </tr>\n",
       "    <tr>\n",
       "      <th>1</th>\n",
       "      <td>248152</td>\n",
       "      <td>USB-C Charging Cable</td>\n",
       "      <td>2</td>\n",
       "      <td>11.95</td>\n",
       "      <td>2019-09-29 10:19:00</td>\n",
       "      <td>511 8th St, Austin, TX 73301</td>\n",
       "      <td>9</td>\n",
       "      <td>23.90</td>\n",
       "      <td>Austin</td>\n",
       "    </tr>\n",
       "    <tr>\n",
       "      <th>2</th>\n",
       "      <td>248153</td>\n",
       "      <td>USB-C Charging Cable</td>\n",
       "      <td>1</td>\n",
       "      <td>11.95</td>\n",
       "      <td>2019-09-16 17:48:00</td>\n",
       "      <td>151 Johnson St, Los Angeles, CA 90001</td>\n",
       "      <td>9</td>\n",
       "      <td>11.95</td>\n",
       "      <td>Los Angeles</td>\n",
       "    </tr>\n",
       "    <tr>\n",
       "      <th>3</th>\n",
       "      <td>248154</td>\n",
       "      <td>27in FHD Monitor</td>\n",
       "      <td>1</td>\n",
       "      <td>149.99</td>\n",
       "      <td>2019-09-27 07:52:00</td>\n",
       "      <td>355 Hickory St, Seattle, WA 98101</td>\n",
       "      <td>9</td>\n",
       "      <td>149.99</td>\n",
       "      <td>Seattle</td>\n",
       "    </tr>\n",
       "    <tr>\n",
       "      <th>4</th>\n",
       "      <td>248155</td>\n",
       "      <td>USB-C Charging Cable</td>\n",
       "      <td>1</td>\n",
       "      <td>11.95</td>\n",
       "      <td>2019-09-01 19:03:00</td>\n",
       "      <td>125 5th St, Atlanta, GA 30301</td>\n",
       "      <td>9</td>\n",
       "      <td>11.95</td>\n",
       "      <td>Atlanta</td>\n",
       "    </tr>\n",
       "  </tbody>\n",
       "</table>\n",
       "</div>"
      ],
      "text/plain": [
       "  Order ID                Product  Quantity Ordered  Price Each  \\\n",
       "0   248151  AA Batteries (4-pack)                 4        3.84   \n",
       "1   248152   USB-C Charging Cable                 2       11.95   \n",
       "2   248153   USB-C Charging Cable                 1       11.95   \n",
       "3   248154       27in FHD Monitor                 1      149.99   \n",
       "4   248155   USB-C Charging Cable                 1       11.95   \n",
       "\n",
       "           Order Date                       Purchase Address  Mes  \\\n",
       "0 2019-09-17 14:44:00    380 North St, Los Angeles, CA 90001    9   \n",
       "1 2019-09-29 10:19:00           511 8th St, Austin, TX 73301    9   \n",
       "2 2019-09-16 17:48:00  151 Johnson St, Los Angeles, CA 90001    9   \n",
       "3 2019-09-27 07:52:00      355 Hickory St, Seattle, WA 98101    9   \n",
       "4 2019-09-01 19:03:00          125 5th St, Atlanta, GA 30301    9   \n",
       "\n",
       "   Total_ventas        Ciudad  \n",
       "0         15.36   Los Angeles  \n",
       "1         23.90        Austin  \n",
       "2         11.95   Los Angeles  \n",
       "3        149.99       Seattle  \n",
       "4         11.95       Atlanta  "
      ]
     },
     "execution_count": 178,
     "metadata": {},
     "output_type": "execute_result"
    }
   ],
   "source": [
    "df.head()"
   ]
  },
  {
   "cell_type": "code",
   "execution_count": 179,
   "metadata": {},
   "outputs": [
    {
     "data": {
      "text/html": [
       "<div>\n",
       "<style scoped>\n",
       "    .dataframe tbody tr th:only-of-type {\n",
       "        vertical-align: middle;\n",
       "    }\n",
       "\n",
       "    .dataframe tbody tr th {\n",
       "        vertical-align: top;\n",
       "    }\n",
       "\n",
       "    .dataframe thead th {\n",
       "        text-align: right;\n",
       "    }\n",
       "</style>\n",
       "<table border=\"1\" class=\"dataframe\">\n",
       "  <thead>\n",
       "    <tr style=\"text-align: right;\">\n",
       "      <th></th>\n",
       "      <th>Order ID</th>\n",
       "      <th>Product</th>\n",
       "      <th>Quantity Ordered</th>\n",
       "      <th>Price Each</th>\n",
       "      <th>Order Date</th>\n",
       "      <th>Purchase Address</th>\n",
       "      <th>Mes</th>\n",
       "      <th>Total_ventas</th>\n",
       "      <th>Ciudad</th>\n",
       "      <th>Hora</th>\n",
       "    </tr>\n",
       "  </thead>\n",
       "  <tbody>\n",
       "    <tr>\n",
       "      <th>0</th>\n",
       "      <td>248151</td>\n",
       "      <td>AA Batteries (4-pack)</td>\n",
       "      <td>4</td>\n",
       "      <td>3.84</td>\n",
       "      <td>2019-09-17 14:44:00</td>\n",
       "      <td>380 North St, Los Angeles, CA 90001</td>\n",
       "      <td>9</td>\n",
       "      <td>15.36</td>\n",
       "      <td>Los Angeles</td>\n",
       "      <td>14</td>\n",
       "    </tr>\n",
       "    <tr>\n",
       "      <th>1</th>\n",
       "      <td>248152</td>\n",
       "      <td>USB-C Charging Cable</td>\n",
       "      <td>2</td>\n",
       "      <td>11.95</td>\n",
       "      <td>2019-09-29 10:19:00</td>\n",
       "      <td>511 8th St, Austin, TX 73301</td>\n",
       "      <td>9</td>\n",
       "      <td>23.90</td>\n",
       "      <td>Austin</td>\n",
       "      <td>10</td>\n",
       "    </tr>\n",
       "    <tr>\n",
       "      <th>2</th>\n",
       "      <td>248153</td>\n",
       "      <td>USB-C Charging Cable</td>\n",
       "      <td>1</td>\n",
       "      <td>11.95</td>\n",
       "      <td>2019-09-16 17:48:00</td>\n",
       "      <td>151 Johnson St, Los Angeles, CA 90001</td>\n",
       "      <td>9</td>\n",
       "      <td>11.95</td>\n",
       "      <td>Los Angeles</td>\n",
       "      <td>17</td>\n",
       "    </tr>\n",
       "    <tr>\n",
       "      <th>3</th>\n",
       "      <td>248154</td>\n",
       "      <td>27in FHD Monitor</td>\n",
       "      <td>1</td>\n",
       "      <td>149.99</td>\n",
       "      <td>2019-09-27 07:52:00</td>\n",
       "      <td>355 Hickory St, Seattle, WA 98101</td>\n",
       "      <td>9</td>\n",
       "      <td>149.99</td>\n",
       "      <td>Seattle</td>\n",
       "      <td>7</td>\n",
       "    </tr>\n",
       "    <tr>\n",
       "      <th>4</th>\n",
       "      <td>248155</td>\n",
       "      <td>USB-C Charging Cable</td>\n",
       "      <td>1</td>\n",
       "      <td>11.95</td>\n",
       "      <td>2019-09-01 19:03:00</td>\n",
       "      <td>125 5th St, Atlanta, GA 30301</td>\n",
       "      <td>9</td>\n",
       "      <td>11.95</td>\n",
       "      <td>Atlanta</td>\n",
       "      <td>19</td>\n",
       "    </tr>\n",
       "  </tbody>\n",
       "</table>\n",
       "</div>"
      ],
      "text/plain": [
       "  Order ID                Product  Quantity Ordered  Price Each  \\\n",
       "0   248151  AA Batteries (4-pack)                 4        3.84   \n",
       "1   248152   USB-C Charging Cable                 2       11.95   \n",
       "2   248153   USB-C Charging Cable                 1       11.95   \n",
       "3   248154       27in FHD Monitor                 1      149.99   \n",
       "4   248155   USB-C Charging Cable                 1       11.95   \n",
       "\n",
       "           Order Date                       Purchase Address  Mes  \\\n",
       "0 2019-09-17 14:44:00    380 North St, Los Angeles, CA 90001    9   \n",
       "1 2019-09-29 10:19:00           511 8th St, Austin, TX 73301    9   \n",
       "2 2019-09-16 17:48:00  151 Johnson St, Los Angeles, CA 90001    9   \n",
       "3 2019-09-27 07:52:00      355 Hickory St, Seattle, WA 98101    9   \n",
       "4 2019-09-01 19:03:00          125 5th St, Atlanta, GA 30301    9   \n",
       "\n",
       "   Total_ventas        Ciudad  Hora  \n",
       "0         15.36   Los Angeles    14  \n",
       "1         23.90        Austin    10  \n",
       "2         11.95   Los Angeles    17  \n",
       "3        149.99       Seattle     7  \n",
       "4         11.95       Atlanta    19  "
      ]
     },
     "execution_count": 179,
     "metadata": {},
     "output_type": "execute_result"
    }
   ],
   "source": [
    "# Agregar una nueva columna 'Hora' al DataFrame\n",
    "# La nueva columna será el valor de la hora extraído de la columna 'Order Date'\n",
    "df['Hora'] = df['Order Date'].apply(lambda x: x.hour)\n",
    "\n",
    "df.head()"
   ]
  },
  {
   "cell_type": "code",
   "execution_count": 180,
   "metadata": {},
   "outputs": [
    {
     "name": "stderr",
     "output_type": "stream",
     "text": [
      "C:\\Users\\hp\\AppData\\Local\\Temp\\ipykernel_3904\\652559358.py:2: FutureWarning: The default value of numeric_only in DataFrameGroupBy.sum is deprecated. In a future version, numeric_only will default to False. Either specify numeric_only or select only columns which should be valid for the function.\n",
      "  df_hour = df.groupby('Hora').sum()\n"
     ]
    }
   ],
   "source": [
    "# Agrupar los datos del DataFrame por hora y sumar las columnas numéricas\n",
    "df_hour = df.groupby('Hora').sum()\n",
    "\n",
    "# Reiniciar el índice del DataFrame resultante\n",
    "df_hour = df_hour.reset_index()"
   ]
  },
  {
   "cell_type": "code",
   "execution_count": 181,
   "metadata": {},
   "outputs": [
    {
     "data": {
      "image/png": "[encoded data removed]",
      "text/plain": [
       "<Figure size 800x550 with 1 Axes>"
      ]
     },
     "metadata": {},
     "output_type": "display_data"
    }
   ],
   "source": [
    "# Crear un gráfico de línea con la columna 'Total_ventas' del DataFrame agrupado por hora\n",
    "plt.plot(df_hour['Total_ventas'], marker='o')\n",
    "\n",
    "# Establecer las etiquetas del eje X con la columna 'Hora' del DataFrame agrupado por hora\n",
    "plt.xticks(df_hour['Hora'])\n",
    "\n",
    "#Título de gráfica\n",
    "plt.title('Ventas por hora del día', size=20)\n",
    "\n",
    "# Mostrar el gráfico\n",
    "plt.show()\n"
   ]
  },
  {
   "attachments": {},
   "cell_type": "markdown",
   "metadata": {},
   "source": [
    "## ¿cuáles son los productos que se venden juntos?"
   ]
  },
  {
   "cell_type": "code",
   "execution_count": 182,
   "metadata": {},
   "outputs": [],
   "source": [
    "# Seleccionar las filas del DataFrame que tienen valores duplicados en la columna 'Order ID'\n",
    "# El argumento keep=False indica que se deben marcar todas las filas duplicadas, no solo las primeras o las últimas.\n",
    "df = df[df['Order ID'].duplicated(keep=False)]\n",
    "\n",
    "# Agrupar los productos por 'Order ID' y crear una nueva columna 'agrupado' en el DataFrame\n",
    "# La función lambda concatena los nombres de los productos en cada grupo separándolos por comas.\n",
    "df['agrupado'] = df.groupby(['Order ID'])['Product'].transform(lambda x: ','.join(x))\n",
    "\n",
    "# Seleccionar solo las columnas 'Order ID' y 'agrupado' del DataFrame\n",
    "df = df[['Order ID' , 'agrupado']]\n",
    "\n",
    "# Eliminar todas las filas duplicadas del DataFrame\n",
    "# Esto asegura que cada 'Order ID' solo aparezca una vez en el DataFrame final.\n",
    "df = df.drop_duplicates()\n"
   ]
  },
  {
   "cell_type": "code",
   "execution_count": 183,
   "metadata": {},
   "outputs": [],
   "source": [
    "# Creamos un objeto Counter vacío\n",
    "count = Counter()\n",
    "\n",
    "# Iteramos sobre la columna 'agrupado' del dataframe 'df'\n",
    "for r in df['agrupado']:\n",
    "    \n",
    "    # Dividimos la cadena en una lista de filas\n",
    "    filas = r.split(',')\n",
    "    \n",
    "    # Obtenemos todas las combinaciones de 2 elementos en la lista de filas y las contamos\n",
    "    count.update(Counter(combinations(filas,2)))"
   ]
  },
  {
   "cell_type": "code",
   "execution_count": 186,
   "metadata": {},
   "outputs": [
    {
     "data": {
      "text/plain": [
       "Counter({('USB-C Charging Cable', 'USB-C Charging Cable'): 48,\n",
       "         ('iPhone', 'Lightning Charging Cable'): 1005,\n",
       "         ('Bose SoundSport Headphones', 'Google Phone'): 8,\n",
       "         ('Vareebadd Phone', 'Bose SoundSport Headphones'): 80,\n",
       "         ('Google Phone', 'Bose SoundSport Headphones'): 220,\n",
       "         ('Vareebadd Phone', 'Wired Headphones'): 143,\n",
       "         ('iPhone', 'Apple Airpods Headphones'): 360,\n",
       "         ('Lightning Charging Cable', 'Apple Airpods Headphones'): 81,\n",
       "         ('Bose SoundSport Headphones', '34in Ultrawide Monitor'): 11,\n",
       "         ('Apple Airpods Headphones', 'Lightning Charging Cable'): 35,\n",
       "         ('27in 4K Gaming Monitor', 'AA Batteries (4-pack)'): 12,\n",
       "         ('Vareebadd Phone', 'USB-C Charging Cable'): 361,\n",
       "         ('Lightning Charging Cable', 'Bose SoundSport Headphones'): 39,\n",
       "         ('Lightning Charging Cable', 'AA Batteries (4-pack)'): 55,\n",
       "         ('AA Batteries (4-pack)', 'AA Batteries (4-pack)'): 35,\n",
       "         ('Lightning Charging Cable', '27in FHD Monitor'): 18,\n",
       "         ('Google Phone', 'USB-C Charging Cable'): 987,\n",
       "         ('Google Phone', 'Wired Headphones'): 414,\n",
       "         ('Lightning Charging Cable', 'USB-C Charging Cable'): 58,\n",
       "         ('AA Batteries (4-pack)', 'Lightning Charging Cable'): 51,\n",
       "         ('ThinkPad Laptop', 'AAA Batteries (4-pack)'): 16,\n",
       "         ('iPhone', 'Wired Headphones'): 447,\n",
       "         ('Lightning Charging Cable', 'Wired Headphones'): 92,\n",
       "         ('Apple Airpods Headphones', 'Bose SoundSport Headphones'): 32,\n",
       "         ('Google Phone', '27in FHD Monitor'): 7,\n",
       "         ('Google Phone', '20in Monitor'): 2,\n",
       "         ('Macbook Pro Laptop', 'Google Phone'): 4,\n",
       "         ('USB-C Charging Cable', 'Google Phone'): 12,\n",
       "         ('AA Batteries (4-pack)', '27in FHD Monitor'): 11,\n",
       "         ('USB-C Charging Cable', 'Wired Headphones'): 160,\n",
       "         ('AAA Batteries (4-pack)', 'Lightning Charging Cable'): 44,\n",
       "         ('Wired Headphones', 'AA Batteries (4-pack)'): 39,\n",
       "         ('Apple Airpods Headphones', 'Wired Headphones'): 69,\n",
       "         ('ThinkPad Laptop', 'Lightning Charging Cable'): 11,\n",
       "         ('AAA Batteries (4-pack)', 'AA Batteries (4-pack)'): 39,\n",
       "         ('Flatscreen TV', 'AAA Batteries (4-pack)'): 11,\n",
       "         ('USB-C Charging Cable', 'AAA Batteries (4-pack)'): 45,\n",
       "         ('LG Dryer', 'Lightning Charging Cable'): 1,\n",
       "         ('AAA Batteries (4-pack)', 'Apple Airpods Headphones'): 33,\n",
       "         ('34in Ultrawide Monitor', '34in Ultrawide Monitor'): 7,\n",
       "         ('AAA Batteries (4-pack)', 'AAA Batteries (4-pack)'): 48,\n",
       "         ('Bose SoundSport Headphones', 'Macbook Pro Laptop'): 4,\n",
       "         ('AA Batteries (4-pack)', 'AAA Batteries (4-pack)'): 48,\n",
       "         ('AAA Batteries (4-pack)', 'ThinkPad Laptop'): 11,\n",
       "         ('27in 4K Gaming Monitor', 'USB-C Charging Cable'): 12,\n",
       "         ('Apple Airpods Headphones', 'Apple Airpods Headphones'): 24,\n",
       "         ('AAA Batteries (4-pack)', '27in FHD Monitor'): 22,\n",
       "         ('USB-C Charging Cable', '27in FHD Monitor'): 31,\n",
       "         ('Apple Airpods Headphones', 'AAA Batteries (4-pack)'): 48,\n",
       "         ('Apple Airpods Headphones', 'AA Batteries (4-pack)'): 29,\n",
       "         ('Lightning Charging Cable', '20in Monitor'): 15,\n",
       "         ('LG Dryer', 'AA Batteries (4-pack)'): 4,\n",
       "         ('Wired Headphones', 'iPhone'): 15,\n",
       "         ('Flatscreen TV', 'Lightning Charging Cable'): 10,\n",
       "         ('Wired Headphones', 'Flatscreen TV'): 7,\n",
       "         ('ThinkPad Laptop', 'LG Dryer'): 1,\n",
       "         ('27in FHD Monitor', 'Apple Airpods Headphones'): 12,\n",
       "         ('AAA Batteries (4-pack)', '34in Ultrawide Monitor'): 13,\n",
       "         ('27in FHD Monitor', '34in Ultrawide Monitor'): 5,\n",
       "         ('AAA Batteries (4-pack)', 'Flatscreen TV'): 10,\n",
       "         ('USB-C Charging Cable', '27in 4K Gaming Monitor'): 11,\n",
       "         ('Wired Headphones', 'Wired Headphones'): 35,\n",
       "         ('Wired Headphones', 'Lightning Charging Cable'): 37,\n",
       "         ('Lightning Charging Cable', 'LG Washing Machine'): 4,\n",
       "         ('AA Batteries (4-pack)', 'ThinkPad Laptop'): 9,\n",
       "         ('20in Monitor', 'Lightning Charging Cable'): 11,\n",
       "         ('Apple Airpods Headphones', 'iPhone'): 13,\n",
       "         ('27in FHD Monitor', 'Flatscreen TV'): 2,\n",
       "         ('Bose SoundSport Headphones', 'Wired Headphones'): 53,\n",
       "         ('34in Ultrawide Monitor', 'iPhone'): 7,\n",
       "         ('Wired Headphones', 'Google Phone'): 9,\n",
       "         ('AA Batteries (4-pack)', 'Flatscreen TV'): 13,\n",
       "         ('Bose SoundSport Headphones', '27in FHD Monitor'): 14,\n",
       "         ('Macbook Pro Laptop', 'AA Batteries (4-pack)'): 9,\n",
       "         ('Apple Airpods Headphones', '34in Ultrawide Monitor'): 6,\n",
       "         ('Wired Headphones', 'AAA Batteries (4-pack)'): 43,\n",
       "         ('Apple Airpods Headphones', 'Google Phone'): 14,\n",
       "         ('Wired Headphones', 'USB-C Charging Cable'): 45,\n",
       "         ('27in FHD Monitor', 'AA Batteries (4-pack)'): 15,\n",
       "         ('LG Washing Machine', 'AA Batteries (4-pack)'): 1,\n",
       "         ('AAA Batteries (4-pack)', 'iPhone'): 14,\n",
       "         ('27in 4K Gaming Monitor', 'Wired Headphones'): 11,\n",
       "         ('iPhone', 'AA Batteries (4-pack)'): 14,\n",
       "         ('AA Batteries (4-pack)', 'USB-C Charging Cable'): 37,\n",
       "         ('AAA Batteries (4-pack)', '27in 4K Gaming Monitor'): 15,\n",
       "         ('Wired Headphones', 'Apple Airpods Headphones'): 31,\n",
       "         ('Wired Headphones', '27in 4K Gaming Monitor'): 18,\n",
       "         ('Bose SoundSport Headphones', 'AAA Batteries (4-pack)'): 37,\n",
       "         ('Apple Airpods Headphones', 'USB-C Charging Cable'): 29,\n",
       "         ('27in 4K Gaming Monitor', 'Flatscreen TV'): 3,\n",
       "         ('27in 4K Gaming Monitor', '20in Monitor'): 2,\n",
       "         ('Bose SoundSport Headphones', 'Lightning Charging Cable'): 33,\n",
       "         ('Wired Headphones', '34in Ultrawide Monitor'): 17,\n",
       "         ('Lightning Charging Cable', 'Lightning Charging Cable'): 54,\n",
       "         ('Wired Headphones', 'Bose SoundSport Headphones'): 21,\n",
       "         ('AAA Batteries (4-pack)', 'Macbook Pro Laptop'): 11,\n",
       "         ('ThinkPad Laptop', 'Google Phone'): 3,\n",
       "         ('27in FHD Monitor', 'USB-C Charging Cable'): 12,\n",
       "         ('27in 4K Gaming Monitor', 'Apple Airpods Headphones'): 10,\n",
       "         ('20in Monitor', 'USB-C Charging Cable'): 15,\n",
       "         ('Bose SoundSport Headphones', 'Flatscreen TV'): 10,\n",
       "         ('ThinkPad Laptop', 'Bose SoundSport Headphones'): 9,\n",
       "         ('AAA Batteries (4-pack)', 'USB-C Charging Cable'): 50,\n",
       "         ('AA Batteries (4-pack)', 'Apple Airpods Headphones'): 41,\n",
       "         ('27in FHD Monitor', 'Lightning Charging Cable'): 18,\n",
       "         ('20in Monitor', 'ThinkPad Laptop'): 2,\n",
       "         ('AA Batteries (4-pack)', 'Google Phone'): 11,\n",
       "         ('AAA Batteries (4-pack)', '20in Monitor'): 8,\n",
       "         ('34in Ultrawide Monitor', 'AAA Batteries (4-pack)'): 12,\n",
       "         ('Lightning Charging Cable', '34in Ultrawide Monitor'): 15,\n",
       "         ('Macbook Pro Laptop', 'Macbook Pro Laptop'): 3,\n",
       "         ('Lightning Charging Cable', 'Flatscreen TV'): 12,\n",
       "         ('Lightning Charging Cable', 'AAA Batteries (4-pack)'): 36,\n",
       "         ('USB-C Charging Cable', 'Bose SoundSport Headphones'): 77,\n",
       "         ('USB-C Charging Cable', 'Apple Airpods Headphones'): 34,\n",
       "         ('iPhone', 'AAA Batteries (4-pack)'): 17,\n",
       "         ('Apple Airpods Headphones', '27in 4K Gaming Monitor'): 12,\n",
       "         ('iPhone', 'Macbook Pro Laptop'): 3,\n",
       "         ('20in Monitor', 'Apple Airpods Headphones'): 7,\n",
       "         ('27in 4K Gaming Monitor', 'Bose SoundSport Headphones'): 9,\n",
       "         ('34in Ultrawide Monitor', 'USB-C Charging Cable'): 15,\n",
       "         ('20in Monitor', 'AA Batteries (4-pack)'): 6,\n",
       "         ('20in Monitor', '27in FHD Monitor'): 2,\n",
       "         ('27in FHD Monitor', '27in FHD Monitor'): 9,\n",
       "         ('Lightning Charging Cable', 'ThinkPad Laptop'): 9,\n",
       "         ('34in Ultrawide Monitor', 'Flatscreen TV'): 3,\n",
       "         ('Bose SoundSport Headphones', 'Apple Airpods Headphones'): 18,\n",
       "         ('Lightning Charging Cable', '27in 4K Gaming Monitor'): 18,\n",
       "         ('AAA Batteries (4-pack)', 'Bose SoundSport Headphones'): 20,\n",
       "         ('USB-C Charging Cable', 'AA Batteries (4-pack)'): 38,\n",
       "         ('34in Ultrawide Monitor', 'AA Batteries (4-pack)'): 19,\n",
       "         ('ThinkPad Laptop', 'AA Batteries (4-pack)'): 8,\n",
       "         ('27in 4K Gaming Monitor', '34in Ultrawide Monitor'): 6,\n",
       "         ('Bose SoundSport Headphones', 'USB-C Charging Cable'): 25,\n",
       "         ('27in FHD Monitor', 'ThinkPad Laptop'): 4,\n",
       "         ('34in Ultrawide Monitor', 'ThinkPad Laptop'): 3,\n",
       "         ('LG Dryer', 'AAA Batteries (4-pack)'): 1,\n",
       "         ('AA Batteries (4-pack)', 'Bose SoundSport Headphones'): 28,\n",
       "         ('Bose SoundSport Headphones', '27in 4K Gaming Monitor'): 10,\n",
       "         ('ThinkPad Laptop', 'USB-C Charging Cable'): 9,\n",
       "         ('ThinkPad Laptop', '34in Ultrawide Monitor'): 1,\n",
       "         ('AAA Batteries (4-pack)', 'Google Phone'): 11,\n",
       "         ('Google Phone', 'Apple Airpods Headphones'): 7,\n",
       "         ('iPhone', 'LG Washing Machine'): 1,\n",
       "         ('AA Batteries (4-pack)', 'Macbook Pro Laptop'): 8,\n",
       "         ('Macbook Pro Laptop', 'USB-C Charging Cable'): 12,\n",
       "         ('AA Batteries (4-pack)', 'Wired Headphones'): 44,\n",
       "         ('USB-C Charging Cable', 'Flatscreen TV'): 10,\n",
       "         ('Wired Headphones', 'Macbook Pro Laptop'): 13,\n",
       "         ('Macbook Pro Laptop', 'ThinkPad Laptop'): 3,\n",
       "         ('AAA Batteries (4-pack)', 'Wired Headphones'): 43,\n",
       "         ('Bose SoundSport Headphones', 'Bose SoundSport Headphones'): 27,\n",
       "         ('34in Ultrawide Monitor', 'Wired Headphones'): 11,\n",
       "         ('iPhone', 'USB-C Charging Cable'): 15,\n",
       "         ('Google Phone', 'Lightning Charging Cable'): 12,\n",
       "         ('27in 4K Gaming Monitor', '27in 4K Gaming Monitor'): 5,\n",
       "         ('27in 4K Gaming Monitor', 'Google Phone'): 5,\n",
       "         ('Macbook Pro Laptop', 'AAA Batteries (4-pack)'): 7,\n",
       "         ('USB-C Charging Cable', '20in Monitor'): 10,\n",
       "         ('Macbook Pro Laptop', 'Wired Headphones'): 7,\n",
       "         ('AA Batteries (4-pack)', '34in Ultrawide Monitor'): 13,\n",
       "         ('USB-C Charging Cable', 'iPhone'): 14,\n",
       "         ('USB-C Charging Cable', 'Lightning Charging Cable'): 42,\n",
       "         ('27in FHD Monitor', '20in Monitor'): 3,\n",
       "         ('iPhone', 'Flatscreen TV'): 6,\n",
       "         ('20in Monitor', 'Bose SoundSport Headphones'): 9,\n",
       "         ('27in 4K Gaming Monitor', 'AAA Batteries (4-pack)'): 15,\n",
       "         ('USB-C Charging Cable', 'Macbook Pro Laptop'): 9,\n",
       "         ('Macbook Pro Laptop', 'LG Washing Machine'): 2,\n",
       "         ('USB-C Charging Cable', 'ThinkPad Laptop'): 11,\n",
       "         ('Wired Headphones', '20in Monitor'): 7,\n",
       "         ('34in Ultrawide Monitor', 'Apple Airpods Headphones'): 8,\n",
       "         ('27in FHD Monitor', 'Bose SoundSport Headphones'): 12,\n",
       "         ('Bose SoundSport Headphones', 'AA Batteries (4-pack)'): 27,\n",
       "         ('20in Monitor', 'Google Phone'): 2,\n",
       "         ('Wired Headphones', 'ThinkPad Laptop'): 10,\n",
       "         ('Wired Headphones', '27in FHD Monitor'): 12,\n",
       "         ('AA Batteries (4-pack)', '20in Monitor'): 10,\n",
       "         ('Flatscreen TV', 'Macbook Pro Laptop'): 4,\n",
       "         ('Apple Airpods Headphones', '27in FHD Monitor'): 12,\n",
       "         ('Apple Airpods Headphones', 'Macbook Pro Laptop'): 12,\n",
       "         ('Macbook Pro Laptop', 'Bose SoundSport Headphones'): 11,\n",
       "         ('34in Ultrawide Monitor', 'Macbook Pro Laptop'): 3,\n",
       "         ('AAA Batteries (4-pack)', 'Vareebadd Phone'): 4,\n",
       "         ('27in 4K Gaming Monitor', '27in FHD Monitor'): 4,\n",
       "         ('27in FHD Monitor', 'AAA Batteries (4-pack)'): 21,\n",
       "         ('34in Ultrawide Monitor', 'Lightning Charging Cable'): 18,\n",
       "         ('Macbook Pro Laptop', '27in 4K Gaming Monitor'): 7,\n",
       "         ('Vareebadd Phone', 'Flatscreen TV'): 3,\n",
       "         ('Lightning Charging Cable', 'iPhone'): 10,\n",
       "         ('34in Ultrawide Monitor', 'Bose SoundSport Headphones'): 6,\n",
       "         ('Flatscreen TV', 'Bose SoundSport Headphones'): 3,\n",
       "         ('27in FHD Monitor', 'Macbook Pro Laptop'): 6,\n",
       "         ('AA Batteries (4-pack)', '27in 4K Gaming Monitor'): 14,\n",
       "         ('Flatscreen TV', 'USB-C Charging Cable'): 7,\n",
       "         ('Google Phone', 'AA Batteries (4-pack)'): 14,\n",
       "         ('Macbook Pro Laptop', '34in Ultrawide Monitor'): 4,\n",
       "         ('AA Batteries (4-pack)', 'iPhone'): 18,\n",
       "         ('27in FHD Monitor', 'Wired Headphones'): 10,\n",
       "         ('ThinkPad Laptop', 'Flatscreen TV'): 4,\n",
       "         ('AAA Batteries (4-pack)', 'LG Dryer'): 1,\n",
       "         ('Flatscreen TV', '34in Ultrawide Monitor'): 5,\n",
       "         ('20in Monitor', '20in Monitor'): 3,\n",
       "         ('Wired Headphones', 'Vareebadd Phone'): 6,\n",
       "         ('Flatscreen TV', 'Flatscreen TV'): 6,\n",
       "         ('LG Dryer', '27in 4K Gaming Monitor'): 1,\n",
       "         ('Macbook Pro Laptop', 'Lightning Charging Cable'): 11,\n",
       "         ('iPhone', '20in Monitor'): 2,\n",
       "         ('Google Phone', 'iPhone'): 6,\n",
       "         ('Google Phone', 'ThinkPad Laptop'): 3,\n",
       "         ('27in 4K Gaming Monitor', 'Lightning Charging Cable'): 16,\n",
       "         ('Bose SoundSport Headphones', 'ThinkPad Laptop'): 4,\n",
       "         ('Google Phone', 'Google Phone'): 3,\n",
       "         ('Lightning Charging Cable', 'Macbook Pro Laptop'): 10,\n",
       "         ('27in FHD Monitor', 'Google Phone'): 1,\n",
       "         ('Macbook Pro Laptop', '27in FHD Monitor'): 3,\n",
       "         ('Flatscreen TV', 'Google Phone'): 3,\n",
       "         ('20in Monitor', 'AAA Batteries (4-pack)'): 3,\n",
       "         ('Bose SoundSport Headphones', '20in Monitor'): 6,\n",
       "         ('Apple Airpods Headphones', 'ThinkPad Laptop'): 9,\n",
       "         ('Google Phone', 'Macbook Pro Laptop'): 3,\n",
       "         ('iPhone', '27in 4K Gaming Monitor'): 6,\n",
       "         ('Bose SoundSport Headphones', 'Vareebadd Phone'): 2,\n",
       "         ('Google Phone', 'AAA Batteries (4-pack)'): 11,\n",
       "         ('Bose SoundSport Headphones', 'iPhone'): 7,\n",
       "         ('Vareebadd Phone', 'iPhone'): 3,\n",
       "         ('Vareebadd Phone', '34in Ultrawide Monitor'): 4,\n",
       "         ('Vareebadd Phone', 'AA Batteries (4-pack)'): 9,\n",
       "         ('Lightning Charging Cable', 'Vareebadd Phone'): 3,\n",
       "         ('Apple Airpods Headphones', 'LG Dryer'): 3,\n",
       "         ('34in Ultrawide Monitor', '27in FHD Monitor'): 5,\n",
       "         ('ThinkPad Laptop', 'iPhone'): 3,\n",
       "         ('iPhone', '27in FHD Monitor'): 1,\n",
       "         ('Flatscreen TV', 'ThinkPad Laptop'): 2,\n",
       "         ('Flatscreen TV', 'iPhone'): 4,\n",
       "         ('ThinkPad Laptop', '27in FHD Monitor'): 2,\n",
       "         ('Vareebadd Phone', 'Google Phone'): 4,\n",
       "         ('27in 4K Gaming Monitor', 'Macbook Pro Laptop'): 6,\n",
       "         ('ThinkPad Laptop', 'Apple Airpods Headphones'): 7,\n",
       "         ('Vareebadd Phone', 'Apple Airpods Headphones'): 6,\n",
       "         ('20in Monitor', 'Wired Headphones'): 12,\n",
       "         ('iPhone', 'ThinkPad Laptop'): 4,\n",
       "         ('Apple Airpods Headphones', '20in Monitor'): 6,\n",
       "         ('Vareebadd Phone', '27in FHD Monitor'): 1,\n",
       "         ('AA Batteries (4-pack)', 'Vareebadd Phone'): 3,\n",
       "         ('iPhone', 'Google Phone'): 3,\n",
       "         ('ThinkPad Laptop', '27in 4K Gaming Monitor'): 1,\n",
       "         ('USB-C Charging Cable', '34in Ultrawide Monitor'): 11,\n",
       "         ('Apple Airpods Headphones', 'Flatscreen TV'): 8,\n",
       "         ('Apple Airpods Headphones', 'Vareebadd Phone'): 6,\n",
       "         ('iPhone', 'Vareebadd Phone'): 4,\n",
       "         ('20in Monitor', 'Flatscreen TV'): 1,\n",
       "         ('Flatscreen TV', 'AA Batteries (4-pack)'): 8,\n",
       "         ('27in 4K Gaming Monitor', 'iPhone'): 3,\n",
       "         ('Flatscreen TV', '27in FHD Monitor'): 4,\n",
       "         ('Vareebadd Phone', 'AAA Batteries (4-pack)'): 2,\n",
       "         ('USB-C Charging Cable', 'LG Dryer'): 1,\n",
       "         ('27in FHD Monitor', 'LG Dryer'): 2,\n",
       "         ('20in Monitor', 'Macbook Pro Laptop'): 4,\n",
       "         ('ThinkPad Laptop', 'Wired Headphones'): 4,\n",
       "         ('LG Washing Machine', '20in Monitor'): 1,\n",
       "         ('Flatscreen TV', '20in Monitor'): 1,\n",
       "         ('USB-C Charging Cable', 'Vareebadd Phone'): 7,\n",
       "         ('Macbook Pro Laptop', 'iPhone'): 3,\n",
       "         ('Flatscreen TV', 'Apple Airpods Headphones'): 5,\n",
       "         ('27in 4K Gaming Monitor', 'ThinkPad Laptop'): 4,\n",
       "         ('Vareebadd Phone', '27in 4K Gaming Monitor'): 2,\n",
       "         ('27in FHD Monitor', 'Vareebadd Phone'): 1,\n",
       "         ('LG Washing Machine', '27in 4K Gaming Monitor'): 1,\n",
       "         ('iPhone', 'Bose SoundSport Headphones'): 5,\n",
       "         ('Vareebadd Phone', 'ThinkPad Laptop'): 2,\n",
       "         ('Lightning Charging Cable', 'Google Phone'): 16,\n",
       "         ('Google Phone', '34in Ultrawide Monitor'): 3,\n",
       "         ('LG Washing Machine', 'AAA Batteries (4-pack)'): 4,\n",
       "         ('LG Washing Machine', 'Apple Airpods Headphones'): 1,\n",
       "         ('27in FHD Monitor', '27in 4K Gaming Monitor'): 4,\n",
       "         ('AA Batteries (4-pack)', 'LG Dryer'): 2,\n",
       "         ('27in 4K Gaming Monitor', 'LG Dryer'): 1,\n",
       "         ('20in Monitor', 'LG Washing Machine'): 1,\n",
       "         ('Wired Headphones', 'LG Washing Machine'): 3,\n",
       "         ('LG Dryer', 'Google Phone'): 1,\n",
       "         ('Flatscreen TV', 'Wired Headphones'): 4,\n",
       "         ('34in Ultrawide Monitor', 'LG Washing Machine'): 1,\n",
       "         ('iPhone', 'iPhone'): 2,\n",
       "         ('iPhone', '34in Ultrawide Monitor'): 6,\n",
       "         ('Google Phone', '27in 4K Gaming Monitor'): 1,\n",
       "         ('LG Washing Machine', 'iPhone'): 1,\n",
       "         ('LG Dryer', 'Wired Headphones'): 1,\n",
       "         ('Macbook Pro Laptop', 'Apple Airpods Headphones'): 7,\n",
       "         ('27in FHD Monitor', 'LG Washing Machine'): 1,\n",
       "         ('LG Dryer', '27in FHD Monitor'): 1,\n",
       "         ('20in Monitor', '34in Ultrawide Monitor'): 1,\n",
       "         ('Macbook Pro Laptop', '20in Monitor'): 2,\n",
       "         ('34in Ultrawide Monitor', '20in Monitor'): 1,\n",
       "         ('LG Washing Machine', 'Lightning Charging Cable'): 2,\n",
       "         ('LG Washing Machine', 'Bose SoundSport Headphones'): 2,\n",
       "         ('LG Dryer', 'Flatscreen TV'): 1,\n",
       "         ('LG Washing Machine', 'Google Phone'): 1,\n",
       "         ('LG Washing Machine', 'Wired Headphones'): 1,\n",
       "         ('Macbook Pro Laptop', 'Flatscreen TV'): 1,\n",
       "         ('ThinkPad Laptop', 'Vareebadd Phone'): 1,\n",
       "         ('ThinkPad Laptop', 'ThinkPad Laptop'): 2,\n",
       "         ('Google Phone', 'Flatscreen TV'): 1,\n",
       "         ('ThinkPad Laptop', 'Macbook Pro Laptop'): 2,\n",
       "         ('Google Phone', 'Vareebadd Phone'): 1,\n",
       "         ('Lightning Charging Cable', 'LG Dryer'): 2,\n",
       "         ('20in Monitor', 'iPhone'): 1,\n",
       "         ('LG Dryer', 'Vareebadd Phone'): 1,\n",
       "         ('34in Ultrawide Monitor', 'Google Phone'): 2,\n",
       "         ('27in 4K Gaming Monitor', 'Vareebadd Phone'): 1,\n",
       "         ('Flatscreen TV', '27in 4K Gaming Monitor'): 2,\n",
       "         ('27in FHD Monitor', 'iPhone'): 1,\n",
       "         ('Vareebadd Phone', 'Lightning Charging Cable'): 1})"
      ]
     },
     "execution_count": 186,
     "metadata": {},
     "output_type": "execute_result"
    }
   ],
   "source": [
    "count"
   ]
  },
  {
   "cell_type": "code",
   "execution_count": 187,
   "metadata": {},
   "outputs": [
    {
     "data": {
      "text/plain": [
       "[(('iPhone', 'Lightning Charging Cable'), 1005),\n",
       " (('Google Phone', 'USB-C Charging Cable'), 987),\n",
       " (('iPhone', 'Wired Headphones'), 447),\n",
       " (('Google Phone', 'Wired Headphones'), 414),\n",
       " (('Vareebadd Phone', 'USB-C Charging Cable'), 361),\n",
       " (('iPhone', 'Apple Airpods Headphones'), 360),\n",
       " (('Google Phone', 'Bose SoundSport Headphones'), 220),\n",
       " (('USB-C Charging Cable', 'Wired Headphones'), 160),\n",
       " (('Vareebadd Phone', 'Wired Headphones'), 143),\n",
       " (('Lightning Charging Cable', 'Wired Headphones'), 92)]"
      ]
     },
     "execution_count": 187,
     "metadata": {},
     "output_type": "execute_result"
    }
   ],
   "source": [
    "# Obtenemos las 10 combinaciones más comunes y las almacenamos en la variable 'comunes'\n",
    "comunes = count.most_common(10)\n",
    "\n",
    "# Mostramos las combinaciones más comunes\n",
    "comunes\n"
   ]
  }
 ],
 "metadata": {
  "kernelspec": {
   "display_name": "Python 3",
   "language": "python",
   "name": "python3"
  },
  "language_info": {
   "codemirror_mode": {
    "name": "ipython",
    "version": 3
   },
   "file_extension": ".py",
   "mimetype": "text/x-python",
   "name": "python",
   "nbconvert_exporter": "python",
   "pygments_lexer": "ipython3",
   "version": "3.10.4"
  },
  "orig_nbformat": 4
 },
 "nbformat": 4,
 "nbformat_minor": 2
}
